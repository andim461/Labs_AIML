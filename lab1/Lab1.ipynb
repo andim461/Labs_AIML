{
 "cells": [
  {
   "cell_type": "markdown",
   "metadata": {},
   "source": [
    "# Лабораторная работа №1"
   ]
  },
  {
   "cell_type": "markdown",
   "metadata": {},
   "source": [
    "Димитриев Анатолий ИДБ-18-09\n"
   ]
  },
  {
   "cell_type": "code",
   "execution_count": 22,
   "metadata": {},
   "outputs": [],
   "source": [
    "import json\n",
    "import csv\n",
    "import requests\n",
    "from bs4 import BeautifulSoup\n",
    "from datetime import date, timedelta\n"
   ]
  },
  {
   "cell_type": "markdown",
   "metadata": {},
   "source": [
    "Задание 1."
   ]
  },
  {
   "cell_type": "code",
   "execution_count": 4,
   "metadata": {},
   "outputs": [
    {
     "data": {
      "text/plain": [
       "{'a': [0, 5, 6], 'b': [1, 7], 'c': [2, 8], 'd': [3], 'e': [4]}"
      ]
     },
     "execution_count": 4,
     "metadata": {},
     "output_type": "execute_result"
    }
   ],
   "source": [
    "def listToDict(lst:list):\n",
    "\n",
    "    return { val: [ k for k in range(i, len(lst)) if (val == lst[k]) ] for i, val in enumerate(lst) if i == (lst.index(val))}\n",
    "\n",
    "listToDict(['a','b','c','d','e','a','a','b','c'])\n"
   ]
  },
  {
   "cell_type": "markdown",
   "metadata": {},
   "source": [
    "Задание 2."
   ]
  },
  {
   "cell_type": "code",
   "execution_count": 12,
   "metadata": {},
   "outputs": [
    {
     "name": "stdout",
     "output_type": "stream",
     "text": [
      "0.6\n",
      "0.5\n"
     ]
    }
   ],
   "source": [
    "def jaccardSimiliarity(setA:set, setB:set):\n",
    "    countInter = 0\n",
    "    for item in setA:\n",
    "         if (item in setB):\n",
    "             countInter+=1\n",
    "    return countInter / (len(setA) + len(setB) - countInter)\n",
    "\n",
    "print(jaccardSimiliarity({1,2,3,5},{1,4,3,5}))\n",
    "print(jaccardSimiliarity({\"Hello\",\"World\",\"Python\"}, {\"Hello\",\"Python\",\"Lab1\"}))\n"
   ]
  },
  {
   "cell_type": "markdown",
   "metadata": {},
   "source": [
    "Задание 4."
   ]
  },
  {
   "cell_type": "code",
   "execution_count": 21,
   "metadata": {},
   "outputs": [],
   "source": [
    "with open(\"salesJson.json\") as sales:\n",
    "    salesList = json.loads(sales.read())\n",
    "sales.close()\n",
    "\n",
    "with open(\"sales.csv\", \"w\", newline=\"\") as file:\n",
    "    columns = [\"item\", \"country\", \"year\", \"sales\"]\n",
    "    writer = csv.DictWriter(file, fieldnames=columns)\n",
    "    writer.writeheader()\n",
    "\n",
    "    for diction in salesList:\n",
    "        for country, value in diction['sales_by_country'].items():\n",
    "            for year in value:\n",
    "                writer.writerow({\"item\":diction['item'],\"country\":country,\"year\":year,\"sales\":value[year]})\n"
   ]
  },
  {
   "cell_type": "markdown",
   "metadata": {},
   "source": [
    "Задание 5."
   ]
  },
  {
   "cell_type": "code",
   "execution_count": 23,
   "metadata": {},
   "outputs": [],
   "source": [
    "def generatorDate(beginDate: date, endDate: date):\n",
    "    while beginDate <= endDate:\n",
    "        yield beginDate.strftime(\"%d/%m/%Y\")\n",
    "        beginDate += timedelta(days=1)\n",
    "\n",
    "currencies = [\n",
    "    \"Доллар США\",\n",
    "    \"Евро\",\n",
    "    \"Индийская рупия\",\n",
    "    \"Украинская гривна\"\n",
    "]\n",
    "\n",
    "idResp = requests.get(\"http://www.cbr.ru/scripts/XML_val.asp?d=0\")\n",
    "soupParse = BeautifulSoup(idResp.content, 'xml')\n",
    "currenciesId = {currency: soupParse.find(\"Name\", text=currency).parent[\"ID\"] for currency in currencies}\n",
    "\n",
    "\n",
    "with open(\"currencies.csv\",'w',newline=\"\") as currencyFile:\n",
    "    columns = [\"Дата\"] + currencies\n",
    "    writer = csv.DictWriter(currencyFile, columns)\n",
    "    writer.writeheader()\n",
    "\n",
    "    for genDate in generatorDate(date(2020, 3, 1), date(2020, 7, 1)):\n",
    "        currencies_price_response = requests.get(f\"http://www.cbr.ru/scripts/XML_daily.asp?date_req={genDate}\")\n",
    "        mapRow = {columns[0]:genDate}\n",
    "        soupParse = BeautifulSoup(currencies_price_response.content, 'xml')\n",
    "\n",
    "        for currency, currencyId in currenciesId.items():\n",
    "            value = float(soupParse.find(ID=currencyId).find(\"Value\").get_text().replace(',','.'))\n",
    "            nominal = int( soupParse.find(ID=currencyId).find(\"Nominal\").get_text())\n",
    "            course = round(value / nominal, 5)\n",
    "            mapRow[currency] = course\n",
    "        writer.writerow(mapRow)\n",
    "        \n",
    "\n",
    "    \n",
    "\n"
   ]
  }
 ],
 "metadata": {
  "kernelspec": {
   "display_name": "Python 3",
   "language": "python",
   "name": "python3"
  },
  "language_info": {
   "codemirror_mode": {
    "name": "ipython",
    "version": 3
   },
   "file_extension": ".py",
   "mimetype": "text/x-python",
   "name": "python",
   "nbconvert_exporter": "python",
   "pygments_lexer": "ipython3",
   "version": "3.8.2"
  }
 },
 "nbformat": 4,
 "nbformat_minor": 4
}
